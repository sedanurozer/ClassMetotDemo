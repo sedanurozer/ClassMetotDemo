{
  "nbformat": 4,
  "nbformat_minor": 0,
  "metadata": {
    "colab": {
      "name": "cifar10-84%.ipynb",
      "provenance": [],
      "collapsed_sections": [],
      "include_colab_link": true
    },
    "kernelspec": {
      "name": "python3",
      "display_name": "Python 3"
    },
    "language_info": {
      "name": "python"
    },
    "accelerator": "GPU"
  },
  "cells": [
    {
      "cell_type": "markdown",
      "metadata": {
        "id": "view-in-github",
        "colab_type": "text"
      },
      "source": [
        "<a href=\"https://colab.research.google.com/github/sedanurozer/ClassMetotDemo/blob/master/cifar10_84_.ipynb\" target=\"_parent\"><img src=\"https://colab.research.google.com/assets/colab-badge.svg\" alt=\"Open In Colab\"/></a>"
      ]
    },
    {
      "cell_type": "code",
      "metadata": {
        "id": "9NtzKqWBRk6-"
      },
      "source": [
        "import tensorflow as tf\n",
        "import matplotlib.pyplot as plt\n",
        "from tensorflow.keras import layers\n",
        "from keras.models import Sequential\n",
        "from keras.layers import Dense, Dropout, Activation, Flatten\n",
        "from keras.layers import Conv2D, MaxPooling2D\n",
        "from keras.layers import BatchNormalization, DepthwiseConv2D"
      ],
      "execution_count": 1,
      "outputs": []
    },
    {
      "cell_type": "code",
      "metadata": {
        "id": "46gGPx-CRyAc"
      },
      "source": [
        "from tensorflow.keras.datasets import cifar10"
      ],
      "execution_count": 2,
      "outputs": []
    },
    {
      "cell_type": "code",
      "metadata": {
        "colab": {
          "base_uri": "https://localhost:8080/"
        },
        "id": "T8JS9dP2Rzdf",
        "outputId": "191f92b2-2a83-4e2f-f800-e0e48d218614"
      },
      "source": [
        "# setting class names\n",
        "class_names=['airplane','automobile','bird','cat','deer','dog','frog','horse','ship','truck']\n",
        "#loading the dataset\n",
        "(x_train,y_train),(x_test,y_test)=cifar10.load_data()"
      ],
      "execution_count": 3,
      "outputs": [
        {
          "output_type": "stream",
          "text": [
            "Downloading data from https://www.cs.toronto.edu/~kriz/cifar-10-python.tar.gz\n",
            "170500096/170498071 [==============================] - 6s 0us/step\n"
          ],
          "name": "stdout"
        }
      ]
    },
    {
      "cell_type": "code",
      "metadata": {
        "colab": {
          "base_uri": "https://localhost:8080/"
        },
        "id": "RIxy3prER5-R",
        "outputId": "47279343-f04c-4f2f-f0a8-9f8ae90bfe45"
      },
      "source": [
        "x_train=x_train/255.0\n",
        "x_train.shape"
      ],
      "execution_count": 4,
      "outputs": [
        {
          "output_type": "execute_result",
          "data": {
            "text/plain": [
              "(50000, 32, 32, 3)"
            ]
          },
          "metadata": {
            "tags": []
          },
          "execution_count": 4
        }
      ]
    },
    {
      "cell_type": "code",
      "metadata": {
        "colab": {
          "base_uri": "https://localhost:8080/"
        },
        "id": "s60dNNLBR8Eb",
        "outputId": "5596608b-4965-49be-d8fb-a2296eb21f78"
      },
      "source": [
        "x_test=x_test/255.0\n",
        "x_test.shape"
      ],
      "execution_count": 5,
      "outputs": [
        {
          "output_type": "execute_result",
          "data": {
            "text/plain": [
              "(10000, 32, 32, 3)"
            ]
          },
          "metadata": {
            "tags": []
          },
          "execution_count": 5
        }
      ]
    },
    {
      "cell_type": "code",
      "metadata": {
        "colab": {
          "base_uri": "https://localhost:8080/",
          "height": 283
        },
        "id": "pH78k8TuR_jS",
        "outputId": "b3835ff6-0607-4632-89cb-cba8e80b1f52"
      },
      "source": [
        "plt.imshow(x_test[215])"
      ],
      "execution_count": 6,
      "outputs": [
        {
          "output_type": "execute_result",
          "data": {
            "text/plain": [
              "<matplotlib.image.AxesImage at 0x7fde9c705590>"
            ]
          },
          "metadata": {
            "tags": []
          },
          "execution_count": 6
        },
        {
          "output_type": "display_data",
          "data": {
            "image/png": "[encoded data removed]",
            "text/plain": [
              "<Figure size 432x288 with 1 Axes>"
            ]
          },
          "metadata": {
            "tags": [],
            "needs_background": "light"
          }
        }
      ]
    },
    {
      "cell_type": "code",
      "metadata": {
        "id": "rCnQFu_XSFgI"
      },
      "source": [
        "model_layers = [\n",
        "    Conv2D(32, (3, 3), activation='relu', strides=(1,1), padding='same', input_shape=(32, 32, 3)),\n",
        "    BatchNormalization(),\n",
        "    DepthwiseConv2D(kernel_size=(3,3), strides=(1, 1), padding='same', activation='relu', depth_multiplier=3),\n",
        "#     MaxPooling2D(2, 2),\n",
        "    Dropout(rate =0.1),\n",
        "    \n",
        "    \n",
        "    Conv2D(64, (3, 3), activation='relu', strides=(2, 2), padding='same'),\n",
        "    BatchNormalization(),\n",
        "    DepthwiseConv2D(kernel_size=(3,3), strides=(1, 1), padding='same', activation='relu'),\n",
        "#     MaxPooling2D(2, 2),\n",
        "    Dropout(rate = 0.1),\n",
        "    \n",
        "    Conv2D(128, (3, 3), activation='relu', strides=(1, 1), padding='same'),\n",
        "    BatchNormalization(),\n",
        "    DepthwiseConv2D(kernel_size=(3,3), strides=(1, 1), padding='same', activation='relu'),\n",
        "#     MaxPooling2D(2, 2),\n",
        "    Dropout(rate = 0.4),\n",
        "    \n",
        "    Conv2D(128, (3, 3), activation='relu', strides=(1, 1), padding='same'),\n",
        "    BatchNormalization(),\n",
        "    DepthwiseConv2D(kernel_size=(1,1), strides=(1, 1), padding='same', activation='relu'),\n",
        "    \n",
        "    \n",
        "    Conv2D(256, (3, 3), activation='relu', strides=(2, 2), padding='same'),\n",
        "    BatchNormalization(),\n",
        "    DepthwiseConv2D(kernel_size=(3,3), strides=(1, 1), padding='same', activation='relu'),\n",
        "    \n",
        "    \n",
        "    \n",
        "    Conv2D(512, (1, 1), activation='relu', strides=(2, 2), padding='same'),\n",
        "    BatchNormalization(),\n",
        "    DepthwiseConv2D(kernel_size=(1,1), strides=(1, 1), padding='same', activation='relu'),\n",
        "    \n",
        "#     MaxPooling2D(2, 2),\n",
        "    Dropout(rate = 0.4),\n",
        "    \n",
        "    Flatten(),\n",
        "    Dropout(rate = 0.3),\n",
        "    Dense(2048, activation='relu'),\n",
        "    Dropout(rate = 0.3),\n",
        "    Dense(512, activation='relu'),\n",
        "    Dropout(rate = 0.4),\n",
        "    Dense(10, activation='softmax')\n",
        "] \n",
        "model = Sequential(model_layers)"
      ],
      "execution_count": 7,
      "outputs": []
    },
    {
      "cell_type": "code",
      "metadata": {
        "id": "0yMwZTwESlna"
      },
      "source": [
        "model.compile(loss=\"sparse_categorical_crossentropy\", optimizer=\"Adam\", metrics=[\"sparse_categorical_accuracy\"])"
      ],
      "execution_count": 8,
      "outputs": []
    },
    {
      "cell_type": "code",
      "metadata": {
        "colab": {
          "base_uri": "https://localhost:8080/"
        },
        "id": "MnQg0p6bSnNO",
        "outputId": "030a6e2b-d1d2-419d-a8b1-76b576aecb23"
      },
      "source": [
        "model_train= model.fit(x_train,y_train,epochs=20)"
      ],
      "execution_count": 20,
      "outputs": [
        {
          "output_type": "stream",
          "text": [
            "Epoch 1/20\n",
            "1563/1563 [==============================] - 25s 16ms/step - loss: 0.3640 - sparse_categorical_accuracy: 0.8755\n",
            "Epoch 2/20\n",
            "1563/1563 [==============================] - 25s 16ms/step - loss: 0.3622 - sparse_categorical_accuracy: 0.8748\n",
            "Epoch 3/20\n",
            "1563/1563 [==============================] - 25s 16ms/step - loss: 0.3536 - sparse_categorical_accuracy: 0.8791\n",
            "Epoch 4/20\n",
            "1563/1563 [==============================] - 25s 16ms/step - loss: 0.3474 - sparse_categorical_accuracy: 0.8823\n",
            "Epoch 5/20\n",
            "1563/1563 [==============================] - 25s 16ms/step - loss: 0.3344 - sparse_categorical_accuracy: 0.8853\n",
            "Epoch 6/20\n",
            "1563/1563 [==============================] - 25s 16ms/step - loss: 0.3315 - sparse_categorical_accuracy: 0.8859\n",
            "Epoch 7/20\n",
            "1563/1563 [==============================] - 25s 16ms/step - loss: 0.3232 - sparse_categorical_accuracy: 0.8871\n",
            "Epoch 8/20\n",
            "1563/1563 [==============================] - 25s 16ms/step - loss: 0.3144 - sparse_categorical_accuracy: 0.8913\n",
            "Epoch 9/20\n",
            "1563/1563 [==============================] - 25s 16ms/step - loss: 0.3057 - sparse_categorical_accuracy: 0.8965\n",
            "Epoch 10/20\n",
            "1563/1563 [==============================] - 25s 16ms/step - loss: 0.3007 - sparse_categorical_accuracy: 0.8968\n",
            "Epoch 11/20\n",
            "1563/1563 [==============================] - 25s 16ms/step - loss: 0.2916 - sparse_categorical_accuracy: 0.8989\n",
            "Epoch 12/20\n",
            "1563/1563 [==============================] - 25s 16ms/step - loss: 0.2902 - sparse_categorical_accuracy: 0.9020\n",
            "Epoch 13/20\n",
            "1563/1563 [==============================] - 25s 16ms/step - loss: 0.2857 - sparse_categorical_accuracy: 0.9025\n",
            "Epoch 14/20\n",
            "1563/1563 [==============================] - 25s 16ms/step - loss: 0.2803 - sparse_categorical_accuracy: 0.9038\n",
            "Epoch 15/20\n",
            "1563/1563 [==============================] - 25s 16ms/step - loss: 0.2795 - sparse_categorical_accuracy: 0.9061\n",
            "Epoch 16/20\n",
            "1563/1563 [==============================] - 25s 16ms/step - loss: 0.2622 - sparse_categorical_accuracy: 0.9115\n",
            "Epoch 17/20\n",
            "1563/1563 [==============================] - 25s 16ms/step - loss: 0.2594 - sparse_categorical_accuracy: 0.9112\n",
            "Epoch 18/20\n",
            "1563/1563 [==============================] - 25s 16ms/step - loss: 0.2514 - sparse_categorical_accuracy: 0.9143\n",
            "Epoch 19/20\n",
            "1563/1563 [==============================] - 25s 16ms/step - loss: 0.2488 - sparse_categorical_accuracy: 0.9152\n",
            "Epoch 20/20\n",
            "1563/1563 [==============================] - 25s 16ms/step - loss: 0.2489 - sparse_categorical_accuracy: 0.9157\n"
          ],
          "name": "stdout"
        }
      ]
    },
    {
      "cell_type": "code",
      "metadata": {
        "id": "022fWj7ITUkX"
      },
      "source": [
        "test_eval = model.evaluate(x_test, y_test, verbose=0)"
      ],
      "execution_count": 21,
      "outputs": []
    },
    {
      "cell_type": "code",
      "metadata": {
        "colab": {
          "base_uri": "https://localhost:8080/"
        },
        "id": "k_oeFvpSTYIO",
        "outputId": "734c1f46-d75d-4ff8-98a2-6f3389b9a930"
      },
      "source": [
        "print('Test loss:', test_eval[0])\n",
        "print('Test accuracy: %',test_eval[1]*100)"
      ],
      "execution_count": 29,
      "outputs": [
        {
          "output_type": "stream",
          "text": [
            "Test loss: 0.4588712751865387\n",
            "Test accuracy: % 85.55999994277954\n"
          ],
          "name": "stdout"
        }
      ]
    },
    {
      "cell_type": "code",
      "metadata": {
        "colab": {
          "base_uri": "https://localhost:8080/",
          "height": 545
        },
        "id": "zo1g3u1seThF",
        "outputId": "31be1d9a-09d2-455b-a34e-fe171cdda420"
      },
      "source": [
        "accuracy = model_train.history['sparse_categorical_accuracy']\n",
        "#val_accuracy = model_train.history['sparse_categorical_accuracy']\n",
        "loss = model_train.history['loss']\n",
        "#val_loss = model_train.history['val_loss']\n",
        "epochs = range(len(accuracy))\n",
        "plt.plot(epochs, accuracy, 'bo', label='Training accuracy')\n",
        "#plt.plot(epochs, val_accuracy, 'b', label='Validation accuracy')\n",
        "plt.title('Training and validation accuracy')\n",
        "plt.legend()\n",
        "plt.figure()\n",
        "plt.plot(epochs, loss, 'bo', label='Training loss')\n",
        "#plt.plot(epochs, val_loss, 'b', label='Validation loss')\n",
        "plt.title('Training and validation loss')\n",
        "plt.legend()\n",
        "plt.show()"
      ],
      "execution_count": 27,
      "outputs": [
        {
          "output_type": "display_data",
          "data": {
            "image/png": "[encoded data removed]",
            "text/plain": [
              "<Figure size 432x288 with 1 Axes>"
            ]
          },
          "metadata": {
            "tags": [],
            "needs_background": "light"
          }
        },
        {
          "output_type": "display_data",
          "data": {
            "image/png": "[encoded data removed]",
            "text/plain": [
              "<Figure size 432x288 with 1 Axes>"
            ]
          },
          "metadata": {
            "tags": [],
            "needs_background": "light"
          }
        }
      ]
    }
  ]
}